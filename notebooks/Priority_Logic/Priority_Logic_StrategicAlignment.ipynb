{
 "cells": [
  {
   "cell_type": "code",
   "execution_count": 125,
   "metadata": {
    "vscode": {
     "languageId": "markdown"
    }
   },
   "outputs": [],
   "source": [
    "# Importing Required Libraries\n",
    "import matplotlib.pyplot as plt\n",
    "import pandas as pd\n",
    "from sklearn.preprocessing import MinMaxScaler\n",
    "import sklearn\n",
    "import numpy as np"
   ]
  },
  {
   "cell_type": "code",
   "execution_count": 126,
   "metadata": {
    "vscode": {
     "languageId": "markdown"
    }
   },
   "outputs": [],
   "source": [
    "# Reading data\n",
    "data = pd.read_csv('/Users/hoosiersaikap251/dataviz/docs/Final_Data.csv')\n",
    "data_dependencies = pd.read_csv('/Users/hoosiersaikap251/dataviz/docs/dependencies_supports.csv')"
   ]
  },
  {
   "cell_type": "markdown",
   "metadata": {},
   "source": [
    "Taking Features Related to ROI Metric"
   ]
  },
  {
   "cell_type": "markdown",
   "metadata": {},
   "source": [
    "| Feature Name                      | Description                                                                                       |\n",
    "|----------------------------------|---------------------------------------------------------------------------------------------------|\n",
    "| aligns_with_okrs                 | Indicates alignment with company OKRs (Yes/No or True/False)                                     |\n",
    "| supports_key_initiative          | Whether the idea supports a key business initiative (e.g., AI push, sustainability)              |\n",
    "| compliance_or_regulatory_benefit | Does the idea contribute to regulatory or compliance needs? (True/False)                         |\n",
    "| innovation_score                 | Innovation score based on novelty or uniqueness (1-5)                                            |\n",
    "| executive_priority_flag          | Flag for executive or leadership priority (True/False)                                           |\n",
    "| strategic_timeline_alignment     | Whether the idea fits into the current strategic timeline or roadmap (True/False)               |\n",
    "| mission_critical_flag            | Marks if the idea is mission-critical to business success (True/False)                           |\n",
    "| long_term_value_score            | Score reflecting potential for long-term strategic value (1-5)                                   |\n"
   ]
  },
  {
   "cell_type": "code",
   "execution_count": 127,
   "metadata": {
    "vscode": {
     "languageId": "javascript"
    }
   },
   "outputs": [
    {
     "name": "stderr",
     "output_type": "stream",
     "text": [
      "/var/folders/jr/cx9v05mj76767q_pxc111nvr0000gn/T/ipykernel_12350/1053224804.py:4: SettingWithCopyWarning: \n",
      "A value is trying to be set on a copy of a slice from a DataFrame.\n",
      "Try using .loc[row_indexer,col_indexer] = value instead\n",
      "\n",
      "See the caveats in the documentation: https://pandas.pydata.org/pandas-docs/stable/user_guide/indexing.html#returning-a-view-versus-a-copy\n",
      "  df_SA['supports_key_initiative'] = df_SA['supports_key_initiative'].fillna('Unknown').copy()\n"
     ]
    },
    {
     "data": {
      "text/html": [
       "<div>\n",
       "<style scoped>\n",
       "    .dataframe tbody tr th:only-of-type {\n",
       "        vertical-align: middle;\n",
       "    }\n",
       "\n",
       "    .dataframe tbody tr th {\n",
       "        vertical-align: top;\n",
       "    }\n",
       "\n",
       "    .dataframe thead th {\n",
       "        text-align: right;\n",
       "    }\n",
       "</style>\n",
       "<table border=\"1\" class=\"dataframe\">\n",
       "  <thead>\n",
       "    <tr style=\"text-align: right;\">\n",
       "      <th></th>\n",
       "      <th>Title</th>\n",
       "      <th>Description</th>\n",
       "      <th>aligns_with_okrs</th>\n",
       "      <th>supports_key_initiative</th>\n",
       "      <th>compliance_or_regulatory_benefit</th>\n",
       "      <th>innovation_score</th>\n",
       "      <th>executive_priority_flag</th>\n",
       "      <th>strategic_timeline_alignment</th>\n",
       "      <th>mission_critical_flag</th>\n",
       "      <th>long_term_value_score</th>\n",
       "    </tr>\n",
       "  </thead>\n",
       "  <tbody>\n",
       "    <tr>\n",
       "      <th>0</th>\n",
       "      <td>Zero-Touch Purpose System</td>\n",
       "      <td>Zero-Touch Purpose System is focused on enhanc...</td>\n",
       "      <td>True</td>\n",
       "      <td>Automation</td>\n",
       "      <td>True</td>\n",
       "      <td>5</td>\n",
       "      <td>True</td>\n",
       "      <td>False</td>\n",
       "      <td>False</td>\n",
       "      <td>2</td>\n",
       "    </tr>\n",
       "    <tr>\n",
       "      <th>1</th>\n",
       "      <td>Cloud-Based Ago Analyzer</td>\n",
       "      <td>Cloud-Based Ago Analyzer is focused on optimiz...</td>\n",
       "      <td>False</td>\n",
       "      <td>Unknown</td>\n",
       "      <td>True</td>\n",
       "      <td>4</td>\n",
       "      <td>True</td>\n",
       "      <td>False</td>\n",
       "      <td>True</td>\n",
       "      <td>5</td>\n",
       "    </tr>\n",
       "    <tr>\n",
       "      <th>2</th>\n",
       "      <td>Intelligent Face Bot</td>\n",
       "      <td>Intelligent Face Bot is focused on streamlinin...</td>\n",
       "      <td>False</td>\n",
       "      <td>Sustainability</td>\n",
       "      <td>False</td>\n",
       "      <td>5</td>\n",
       "      <td>False</td>\n",
       "      <td>True</td>\n",
       "      <td>True</td>\n",
       "      <td>1</td>\n",
       "    </tr>\n",
       "    <tr>\n",
       "      <th>3</th>\n",
       "      <td>AI-Powered Dog System</td>\n",
       "      <td>AI-Powered Dog System is focused on reducing m...</td>\n",
       "      <td>False</td>\n",
       "      <td>Sustainability</td>\n",
       "      <td>False</td>\n",
       "      <td>2</td>\n",
       "      <td>True</td>\n",
       "      <td>True</td>\n",
       "      <td>False</td>\n",
       "      <td>5</td>\n",
       "    </tr>\n",
       "    <tr>\n",
       "      <th>4</th>\n",
       "      <td>Predictive Since Agent</td>\n",
       "      <td>Predictive Since Agent is focused on improving...</td>\n",
       "      <td>False</td>\n",
       "      <td>Unknown</td>\n",
       "      <td>False</td>\n",
       "      <td>5</td>\n",
       "      <td>False</td>\n",
       "      <td>True</td>\n",
       "      <td>True</td>\n",
       "      <td>3</td>\n",
       "    </tr>\n",
       "  </tbody>\n",
       "</table>\n",
       "</div>"
      ],
      "text/plain": [
       "                       Title  \\\n",
       "0  Zero-Touch Purpose System   \n",
       "1   Cloud-Based Ago Analyzer   \n",
       "2       Intelligent Face Bot   \n",
       "3      AI-Powered Dog System   \n",
       "4     Predictive Since Agent   \n",
       "\n",
       "                                         Description  aligns_with_okrs  \\\n",
       "0  Zero-Touch Purpose System is focused on enhanc...              True   \n",
       "1  Cloud-Based Ago Analyzer is focused on optimiz...             False   \n",
       "2  Intelligent Face Bot is focused on streamlinin...             False   \n",
       "3  AI-Powered Dog System is focused on reducing m...             False   \n",
       "4  Predictive Since Agent is focused on improving...             False   \n",
       "\n",
       "  supports_key_initiative  compliance_or_regulatory_benefit  innovation_score  \\\n",
       "0              Automation                              True                 5   \n",
       "1                 Unknown                              True                 4   \n",
       "2          Sustainability                             False                 5   \n",
       "3          Sustainability                             False                 2   \n",
       "4                 Unknown                             False                 5   \n",
       "\n",
       "   executive_priority_flag  strategic_timeline_alignment  \\\n",
       "0                     True                         False   \n",
       "1                     True                         False   \n",
       "2                    False                          True   \n",
       "3                     True                          True   \n",
       "4                    False                          True   \n",
       "\n",
       "   mission_critical_flag  long_term_value_score  \n",
       "0                  False                      2  \n",
       "1                   True                      5  \n",
       "2                   True                      1  \n",
       "3                  False                      5  \n",
       "4                   True                      3  "
      ]
     },
     "execution_count": 127,
     "metadata": {},
     "output_type": "execute_result"
    }
   ],
   "source": [
    "df_SA = data[['Title','Description','aligns_with_okrs', 'supports_key_initiative', 'compliance_or_regulatory_benefit', \n",
    "                    'innovation_score', 'executive_priority_flag', 'strategic_timeline_alignment', \n",
    "                    'mission_critical_flag', 'long_term_value_score']]\n",
    "df_SA['supports_key_initiative'] = df_SA['supports_key_initiative'].fillna('Unknown').copy()\n",
    "df_SA.head()"
   ]
  },
  {
   "cell_type": "code",
   "execution_count": 128,
   "metadata": {
    "vscode": {
     "languageId": "javascript"
    }
   },
   "outputs": [
    {
     "data": {
      "text/html": [
       "<div>\n",
       "<style scoped>\n",
       "    .dataframe tbody tr th:only-of-type {\n",
       "        vertical-align: middle;\n",
       "    }\n",
       "\n",
       "    .dataframe tbody tr th {\n",
       "        vertical-align: top;\n",
       "    }\n",
       "\n",
       "    .dataframe thead th {\n",
       "        text-align: right;\n",
       "    }\n",
       "</style>\n",
       "<table border=\"1\" class=\"dataframe\">\n",
       "  <thead>\n",
       "    <tr style=\"text-align: right;\">\n",
       "      <th></th>\n",
       "      <th>Title</th>\n",
       "      <th>Description</th>\n",
       "      <th>aligns_with_okrs</th>\n",
       "      <th>supports_key_initiative</th>\n",
       "      <th>compliance_or_regulatory_benefit</th>\n",
       "      <th>innovation_score</th>\n",
       "      <th>executive_priority_flag</th>\n",
       "      <th>strategic_timeline_alignment</th>\n",
       "      <th>mission_critical_flag</th>\n",
       "      <th>long_term_value_score</th>\n",
       "      <th>Num Supports</th>\n",
       "    </tr>\n",
       "  </thead>\n",
       "  <tbody>\n",
       "    <tr>\n",
       "      <th>0</th>\n",
       "      <td>Zero-Touch Purpose System</td>\n",
       "      <td>Zero-Touch Purpose System is focused on enhanc...</td>\n",
       "      <td>True</td>\n",
       "      <td>Automation</td>\n",
       "      <td>True</td>\n",
       "      <td>5</td>\n",
       "      <td>True</td>\n",
       "      <td>False</td>\n",
       "      <td>False</td>\n",
       "      <td>2</td>\n",
       "      <td>5</td>\n",
       "    </tr>\n",
       "  </tbody>\n",
       "</table>\n",
       "</div>"
      ],
      "text/plain": [
       "                       Title  \\\n",
       "0  Zero-Touch Purpose System   \n",
       "\n",
       "                                         Description  aligns_with_okrs  \\\n",
       "0  Zero-Touch Purpose System is focused on enhanc...              True   \n",
       "\n",
       "  supports_key_initiative  compliance_or_regulatory_benefit  innovation_score  \\\n",
       "0              Automation                              True                 5   \n",
       "\n",
       "   executive_priority_flag  strategic_timeline_alignment  \\\n",
       "0                     True                         False   \n",
       "\n",
       "   mission_critical_flag  long_term_value_score  Num Supports  \n",
       "0                  False                      2             5  "
      ]
     },
     "execution_count": 128,
     "metadata": {},
     "output_type": "execute_result"
    }
   ],
   "source": [
    "df_SA = df_SA.merge(data_dependencies[['Title', 'Num Supports']], on='Title', how='left')\n",
    "df_SA.head(1)"
   ]
  },
  {
   "cell_type": "markdown",
   "metadata": {},
   "source": [
    "One-hot encoding is used to convert categorical values into binary indicator columns.\n",
    "This allows machine learning models to interpret categorical data without assuming any ordinal relationship.\n",
    "Each unique category in the original column becomes a separate column with 0 or 1 values."
   ]
  },
  {
   "cell_type": "code",
   "execution_count": 129,
   "metadata": {},
   "outputs": [],
   "source": [
    "from sklearn.preprocessing import OneHotEncoder\n",
    "\n",
    "encoder = OneHotEncoder(sparse_output=False, dtype=int, handle_unknown='ignore')\n",
    "encoded_array = encoder.fit_transform(df_SA[['supports_key_initiative']])\n",
    "encoded_cols = encoder.get_feature_names_out(['supports_key_initiative'])\n",
    "df_encoded = pd.DataFrame(encoded_array, columns=encoded_cols)\n",
    "df_SA = pd.concat([df_SA.drop(columns=['supports_key_initiative']), df_encoded], axis=1)"
   ]
  },
  {
   "cell_type": "code",
   "execution_count": 130,
   "metadata": {},
   "outputs": [
    {
     "data": {
      "text/html": [
       "<div>\n",
       "<style scoped>\n",
       "    .dataframe tbody tr th:only-of-type {\n",
       "        vertical-align: middle;\n",
       "    }\n",
       "\n",
       "    .dataframe tbody tr th {\n",
       "        vertical-align: top;\n",
       "    }\n",
       "\n",
       "    .dataframe thead th {\n",
       "        text-align: right;\n",
       "    }\n",
       "</style>\n",
       "<table border=\"1\" class=\"dataframe\">\n",
       "  <thead>\n",
       "    <tr style=\"text-align: right;\">\n",
       "      <th></th>\n",
       "      <th>Title</th>\n",
       "      <th>Description</th>\n",
       "      <th>aligns_with_okrs</th>\n",
       "      <th>compliance_or_regulatory_benefit</th>\n",
       "      <th>innovation_score</th>\n",
       "      <th>executive_priority_flag</th>\n",
       "      <th>strategic_timeline_alignment</th>\n",
       "      <th>mission_critical_flag</th>\n",
       "      <th>long_term_value_score</th>\n",
       "      <th>Num Supports</th>\n",
       "      <th>supports_key_initiative_AI</th>\n",
       "      <th>supports_key_initiative_Automation</th>\n",
       "      <th>supports_key_initiative_Sustainability</th>\n",
       "      <th>supports_key_initiative_Unknown</th>\n",
       "    </tr>\n",
       "  </thead>\n",
       "  <tbody>\n",
       "    <tr>\n",
       "      <th>0</th>\n",
       "      <td>Zero-Touch Purpose System</td>\n",
       "      <td>Zero-Touch Purpose System is focused on enhanc...</td>\n",
       "      <td>True</td>\n",
       "      <td>True</td>\n",
       "      <td>5</td>\n",
       "      <td>True</td>\n",
       "      <td>False</td>\n",
       "      <td>False</td>\n",
       "      <td>2</td>\n",
       "      <td>5</td>\n",
       "      <td>0</td>\n",
       "      <td>1</td>\n",
       "      <td>0</td>\n",
       "      <td>0</td>\n",
       "    </tr>\n",
       "    <tr>\n",
       "      <th>1</th>\n",
       "      <td>Cloud-Based Ago Analyzer</td>\n",
       "      <td>Cloud-Based Ago Analyzer is focused on optimiz...</td>\n",
       "      <td>False</td>\n",
       "      <td>True</td>\n",
       "      <td>4</td>\n",
       "      <td>True</td>\n",
       "      <td>False</td>\n",
       "      <td>True</td>\n",
       "      <td>5</td>\n",
       "      <td>3</td>\n",
       "      <td>0</td>\n",
       "      <td>0</td>\n",
       "      <td>0</td>\n",
       "      <td>1</td>\n",
       "    </tr>\n",
       "    <tr>\n",
       "      <th>2</th>\n",
       "      <td>Intelligent Face Bot</td>\n",
       "      <td>Intelligent Face Bot is focused on streamlinin...</td>\n",
       "      <td>False</td>\n",
       "      <td>False</td>\n",
       "      <td>5</td>\n",
       "      <td>False</td>\n",
       "      <td>True</td>\n",
       "      <td>True</td>\n",
       "      <td>1</td>\n",
       "      <td>5</td>\n",
       "      <td>0</td>\n",
       "      <td>0</td>\n",
       "      <td>1</td>\n",
       "      <td>0</td>\n",
       "    </tr>\n",
       "  </tbody>\n",
       "</table>\n",
       "</div>"
      ],
      "text/plain": [
       "                       Title  \\\n",
       "0  Zero-Touch Purpose System   \n",
       "1   Cloud-Based Ago Analyzer   \n",
       "2       Intelligent Face Bot   \n",
       "\n",
       "                                         Description  aligns_with_okrs  \\\n",
       "0  Zero-Touch Purpose System is focused on enhanc...              True   \n",
       "1  Cloud-Based Ago Analyzer is focused on optimiz...             False   \n",
       "2  Intelligent Face Bot is focused on streamlinin...             False   \n",
       "\n",
       "   compliance_or_regulatory_benefit  innovation_score  \\\n",
       "0                              True                 5   \n",
       "1                              True                 4   \n",
       "2                             False                 5   \n",
       "\n",
       "   executive_priority_flag  strategic_timeline_alignment  \\\n",
       "0                     True                         False   \n",
       "1                     True                         False   \n",
       "2                    False                          True   \n",
       "\n",
       "   mission_critical_flag  long_term_value_score  Num Supports  \\\n",
       "0                  False                      2             5   \n",
       "1                   True                      5             3   \n",
       "2                   True                      1             5   \n",
       "\n",
       "   supports_key_initiative_AI  supports_key_initiative_Automation  \\\n",
       "0                           0                                   1   \n",
       "1                           0                                   0   \n",
       "2                           0                                   0   \n",
       "\n",
       "   supports_key_initiative_Sustainability  supports_key_initiative_Unknown  \n",
       "0                                       0                                0  \n",
       "1                                       0                                1  \n",
       "2                                       1                                0  "
      ]
     },
     "execution_count": 130,
     "metadata": {},
     "output_type": "execute_result"
    }
   ],
   "source": [
    "df_SA.head(3)"
   ]
  },
  {
   "cell_type": "code",
   "execution_count": 131,
   "metadata": {},
   "outputs": [
    {
     "name": "stderr",
     "output_type": "stream",
     "text": [
      "/var/folders/jr/cx9v05mj76767q_pxc111nvr0000gn/T/ipykernel_12350/1509345469.py:5: FutureWarning: Downcasting behavior in `replace` is deprecated and will be removed in a future version. To retain the old behavior, explicitly call `result.infer_objects(copy=False)`. To opt-in to the future behavior, set `pd.set_option('future.no_silent_downcasting', True)`\n",
      "  df_SA[boolean_columns] = df_SA[boolean_columns].replace({True: 1, False: 0})\n"
     ]
    },
    {
     "data": {
      "text/html": [
       "<div>\n",
       "<style scoped>\n",
       "    .dataframe tbody tr th:only-of-type {\n",
       "        vertical-align: middle;\n",
       "    }\n",
       "\n",
       "    .dataframe tbody tr th {\n",
       "        vertical-align: top;\n",
       "    }\n",
       "\n",
       "    .dataframe thead th {\n",
       "        text-align: right;\n",
       "    }\n",
       "</style>\n",
       "<table border=\"1\" class=\"dataframe\">\n",
       "  <thead>\n",
       "    <tr style=\"text-align: right;\">\n",
       "      <th></th>\n",
       "      <th>Title</th>\n",
       "      <th>Description</th>\n",
       "      <th>aligns_with_okrs</th>\n",
       "      <th>compliance_or_regulatory_benefit</th>\n",
       "      <th>innovation_score</th>\n",
       "      <th>executive_priority_flag</th>\n",
       "      <th>strategic_timeline_alignment</th>\n",
       "      <th>mission_critical_flag</th>\n",
       "      <th>long_term_value_score</th>\n",
       "      <th>Num Supports</th>\n",
       "      <th>supports_key_initiative_AI</th>\n",
       "      <th>supports_key_initiative_Automation</th>\n",
       "      <th>supports_key_initiative_Sustainability</th>\n",
       "      <th>supports_key_initiative_Unknown</th>\n",
       "    </tr>\n",
       "  </thead>\n",
       "  <tbody>\n",
       "    <tr>\n",
       "      <th>0</th>\n",
       "      <td>Zero-Touch Purpose System</td>\n",
       "      <td>Zero-Touch Purpose System is focused on enhanc...</td>\n",
       "      <td>1</td>\n",
       "      <td>1</td>\n",
       "      <td>5</td>\n",
       "      <td>1</td>\n",
       "      <td>0</td>\n",
       "      <td>0</td>\n",
       "      <td>2</td>\n",
       "      <td>5</td>\n",
       "      <td>0</td>\n",
       "      <td>1</td>\n",
       "      <td>0</td>\n",
       "      <td>0</td>\n",
       "    </tr>\n",
       "    <tr>\n",
       "      <th>1</th>\n",
       "      <td>Cloud-Based Ago Analyzer</td>\n",
       "      <td>Cloud-Based Ago Analyzer is focused on optimiz...</td>\n",
       "      <td>0</td>\n",
       "      <td>1</td>\n",
       "      <td>4</td>\n",
       "      <td>1</td>\n",
       "      <td>0</td>\n",
       "      <td>1</td>\n",
       "      <td>5</td>\n",
       "      <td>3</td>\n",
       "      <td>0</td>\n",
       "      <td>0</td>\n",
       "      <td>0</td>\n",
       "      <td>1</td>\n",
       "    </tr>\n",
       "    <tr>\n",
       "      <th>2</th>\n",
       "      <td>Intelligent Face Bot</td>\n",
       "      <td>Intelligent Face Bot is focused on streamlinin...</td>\n",
       "      <td>0</td>\n",
       "      <td>0</td>\n",
       "      <td>5</td>\n",
       "      <td>0</td>\n",
       "      <td>1</td>\n",
       "      <td>1</td>\n",
       "      <td>1</td>\n",
       "      <td>5</td>\n",
       "      <td>0</td>\n",
       "      <td>0</td>\n",
       "      <td>1</td>\n",
       "      <td>0</td>\n",
       "    </tr>\n",
       "  </tbody>\n",
       "</table>\n",
       "</div>"
      ],
      "text/plain": [
       "                       Title  \\\n",
       "0  Zero-Touch Purpose System   \n",
       "1   Cloud-Based Ago Analyzer   \n",
       "2       Intelligent Face Bot   \n",
       "\n",
       "                                         Description  aligns_with_okrs  \\\n",
       "0  Zero-Touch Purpose System is focused on enhanc...                 1   \n",
       "1  Cloud-Based Ago Analyzer is focused on optimiz...                 0   \n",
       "2  Intelligent Face Bot is focused on streamlinin...                 0   \n",
       "\n",
       "   compliance_or_regulatory_benefit  innovation_score  \\\n",
       "0                                 1                 5   \n",
       "1                                 1                 4   \n",
       "2                                 0                 5   \n",
       "\n",
       "   executive_priority_flag  strategic_timeline_alignment  \\\n",
       "0                        1                             0   \n",
       "1                        1                             0   \n",
       "2                        0                             1   \n",
       "\n",
       "   mission_critical_flag  long_term_value_score  Num Supports  \\\n",
       "0                      0                      2             5   \n",
       "1                      1                      5             3   \n",
       "2                      1                      1             5   \n",
       "\n",
       "   supports_key_initiative_AI  supports_key_initiative_Automation  \\\n",
       "0                           0                                   1   \n",
       "1                           0                                   0   \n",
       "2                           0                                   0   \n",
       "\n",
       "   supports_key_initiative_Sustainability  supports_key_initiative_Unknown  \n",
       "0                                       0                                0  \n",
       "1                                       0                                1  \n",
       "2                                       1                                0  "
      ]
     },
     "execution_count": 131,
     "metadata": {},
     "output_type": "execute_result"
    }
   ],
   "source": [
    "boolean_columns = ['aligns_with_okrs', 'compliance_or_regulatory_benefit', \n",
    "                   'executive_priority_flag', 'strategic_timeline_alignment', \n",
    "                   'mission_critical_flag']\n",
    "\n",
    "df_SA[boolean_columns] = df_SA[boolean_columns].replace({True: 1, False: 0})\n",
    "df_SA.head(3)"
   ]
  },
  {
   "cell_type": "code",
   "execution_count": 132,
   "metadata": {},
   "outputs": [
    {
     "data": {
      "image/png": "[encoded data removed]",
      "text/plain": [
       "<Figure size 1500x1000 with 12 Axes>"
      ]
     },
     "metadata": {},
     "output_type": "display_data"
    }
   ],
   "source": [
    "df_SA.hist(bins=20, figsize=(15, 10), edgecolor='black')\n",
    "plt.show()"
   ]
  },
  {
   "cell_type": "markdown",
   "metadata": {},
   "source": [
    "Normalizing the Data based on Min-Max Scaling "
   ]
  },
  {
   "cell_type": "code",
   "execution_count": 133,
   "metadata": {
    "vscode": {
     "languageId": "javascript"
    }
   },
   "outputs": [
    {
     "data": {
      "text/html": [
       "<div>\n",
       "<style scoped>\n",
       "    .dataframe tbody tr th:only-of-type {\n",
       "        vertical-align: middle;\n",
       "    }\n",
       "\n",
       "    .dataframe tbody tr th {\n",
       "        vertical-align: top;\n",
       "    }\n",
       "\n",
       "    .dataframe thead th {\n",
       "        text-align: right;\n",
       "    }\n",
       "</style>\n",
       "<table border=\"1\" class=\"dataframe\">\n",
       "  <thead>\n",
       "    <tr style=\"text-align: right;\">\n",
       "      <th></th>\n",
       "      <th>Title</th>\n",
       "      <th>Description</th>\n",
       "      <th>aligns_with_okrs</th>\n",
       "      <th>compliance_or_regulatory_benefit</th>\n",
       "      <th>innovation_score</th>\n",
       "      <th>executive_priority_flag</th>\n",
       "      <th>strategic_timeline_alignment</th>\n",
       "      <th>mission_critical_flag</th>\n",
       "      <th>long_term_value_score</th>\n",
       "      <th>Num Supports</th>\n",
       "      <th>supports_key_initiative_AI</th>\n",
       "      <th>supports_key_initiative_Automation</th>\n",
       "      <th>supports_key_initiative_Sustainability</th>\n",
       "      <th>supports_key_initiative_Unknown</th>\n",
       "    </tr>\n",
       "  </thead>\n",
       "  <tbody>\n",
       "    <tr>\n",
       "      <th>0</th>\n",
       "      <td>Zero-Touch Purpose System</td>\n",
       "      <td>Zero-Touch Purpose System is focused on enhanc...</td>\n",
       "      <td>1.0</td>\n",
       "      <td>1.0</td>\n",
       "      <td>1.0</td>\n",
       "      <td>1.0</td>\n",
       "      <td>0.0</td>\n",
       "      <td>0.0</td>\n",
       "      <td>0.25</td>\n",
       "      <td>1.0</td>\n",
       "      <td>0.0</td>\n",
       "      <td>1.0</td>\n",
       "      <td>0.0</td>\n",
       "      <td>0.0</td>\n",
       "    </tr>\n",
       "  </tbody>\n",
       "</table>\n",
       "</div>"
      ],
      "text/plain": [
       "                       Title  \\\n",
       "0  Zero-Touch Purpose System   \n",
       "\n",
       "                                         Description  aligns_with_okrs  \\\n",
       "0  Zero-Touch Purpose System is focused on enhanc...               1.0   \n",
       "\n",
       "   compliance_or_regulatory_benefit  innovation_score  \\\n",
       "0                               1.0               1.0   \n",
       "\n",
       "   executive_priority_flag  strategic_timeline_alignment  \\\n",
       "0                      1.0                           0.0   \n",
       "\n",
       "   mission_critical_flag  long_term_value_score  Num Supports  \\\n",
       "0                    0.0                   0.25           1.0   \n",
       "\n",
       "   supports_key_initiative_AI  supports_key_initiative_Automation  \\\n",
       "0                         0.0                                 1.0   \n",
       "\n",
       "   supports_key_initiative_Sustainability  supports_key_initiative_Unknown  \n",
       "0                                     0.0                              0.0  "
      ]
     },
     "execution_count": 133,
     "metadata": {},
     "output_type": "execute_result"
    }
   ],
   "source": [
    "numerical_columns = df_SA.select_dtypes(include=['int64', 'float64']).columns\n",
    "scaler = MinMaxScaler(feature_range=(0, 1))\n",
    "df_SA_normalized = df_SA.copy()\n",
    "df_SA_normalized[numerical_columns] = scaler.fit_transform(df_SA[numerical_columns])\n",
    "df_SA_normalized.head(1)"
   ]
  },
  {
   "cell_type": "code",
   "execution_count": 134,
   "metadata": {},
   "outputs": [],
   "source": [
    "# Keeping the Target Label Randomly (Although it will depend upon the labeled data from the upstream)\n",
    "df_SA_normalized['target'] = np.random.rand(len(df_SA_normalized))"
   ]
  },
  {
   "cell_type": "code",
   "execution_count": 135,
   "metadata": {
    "vscode": {
     "languageId": "markdown"
    }
   },
   "outputs": [],
   "source": [
    "# Train, Val and Test Split For Training Random Forest Model\n",
    "from sklearn.model_selection import train_test_split\n",
    "\n",
    "df_train,df_temp = train_test_split(df_SA_normalized, train_size=800, random_state=42)\n",
    "df_val, df_test = train_test_split(df_SA_normalized, test_size=100, random_state=42)"
   ]
  },
  {
   "cell_type": "code",
   "execution_count": 136,
   "metadata": {},
   "outputs": [
    {
     "name": "stdout",
     "output_type": "stream",
     "text": [
      "MSE: 0.024462643987594665\n"
     ]
    }
   ],
   "source": [
    "from sklearn.ensemble import RandomForestRegressor\n",
    "from sklearn.metrics import mean_squared_error\n",
    "\n",
    "#Training the Model\n",
    "X = df_train[numerical_columns]\n",
    "y = df_train['target']\n",
    "\n",
    "\n",
    "rf_regressor = RandomForestRegressor(n_estimators=100,random_state=42)\n",
    "rf_regressor.fit(X, y)\n",
    "\n",
    "# Val Set\n",
    "X_val = df_val[numerical_columns]\n",
    "y_val = df_val['target']\n",
    "y_pred = rf_regressor.predict(X_val)\n",
    "\n",
    "\n",
    "mse = mean_squared_error(y_val, y_pred)\n",
    "print(f\"MSE: {mse}\")"
   ]
  },
  {
   "cell_type": "markdown",
   "metadata": {},
   "source": [
    "Feature importance indicates how much each feature contributes to the predictive power of the model.\n",
    "Higher importance values mean the feature plays a bigger role in the model’s decisions.\n",
    "This helps with model interpretability and can guide feature selection or engineering."
   ]
  },
  {
   "cell_type": "code",
   "execution_count": 137,
   "metadata": {},
   "outputs": [
    {
     "name": "stdout",
     "output_type": "stream",
     "text": [
      "                                   Feature  Importance\n",
      "7                             Num Supports    0.181646\n",
      "6                    long_term_value_score    0.168365\n",
      "2                         innovation_score    0.165885\n",
      "1         compliance_or_regulatory_benefit    0.073974\n",
      "4             strategic_timeline_alignment    0.072635\n",
      "3                  executive_priority_flag    0.071416\n",
      "5                    mission_critical_flag    0.055410\n",
      "9       supports_key_initiative_Automation    0.048277\n",
      "0                         aligns_with_okrs    0.045711\n",
      "10  supports_key_initiative_Sustainability    0.041694\n",
      "11         supports_key_initiative_Unknown    0.037952\n",
      "8               supports_key_initiative_AI    0.037034\n"
     ]
    }
   ],
   "source": [
    "# Get feature importances\n",
    "feature_importances = rf_regressor.feature_importances_\n",
    "\n",
    "\n",
    "importances_df = pd.DataFrame({\n",
    "    'Feature': numerical_columns,\n",
    "    'Importance': feature_importances\n",
    "}).sort_values(by='Importance', ascending=False)\n",
    "\n",
    "print(importances_df)"
   ]
  },
  {
   "cell_type": "code",
   "execution_count": 138,
   "metadata": {},
   "outputs": [],
   "source": [
    "importances_df.to_csv('feature_importances_SA.csv', index=False)"
   ]
  },
  {
   "cell_type": "code",
   "execution_count": 139,
   "metadata": {},
   "outputs": [],
   "source": [
    "feature_weights = pd.Series(feature_importances, index=X.columns)"
   ]
  },
  {
   "cell_type": "code",
   "execution_count": 140,
   "metadata": {},
   "outputs": [
    {
     "name": "stderr",
     "output_type": "stream",
     "text": [
      "/opt/anaconda3/lib/python3.12/site-packages/altair/utils/core.py:395: FutureWarning: the convert_dtype parameter is deprecated and will be removed in a future version.  Do ``ser.astype(object).apply()`` instead if you want ``convert_dtype=False``.\n",
      "  col = df[col_name].apply(to_list_if_array, convert_dtype=False)\n"
     ]
    },
    {
     "data": {
      "text/html": [
       "\n",
       "<style>\n",
       "  #altair-viz-dfe421480fbf49cebe45b74cb413145b.vega-embed {\n",
       "    width: 100%;\n",
       "    display: flex;\n",
       "  }\n",
       "\n",
       "  #altair-viz-dfe421480fbf49cebe45b74cb413145b.vega-embed details,\n",
       "  #altair-viz-dfe421480fbf49cebe45b74cb413145b.vega-embed details summary {\n",
       "    position: relative;\n",
       "  }\n",
       "</style>\n",
       "<div id=\"altair-viz-dfe421480fbf49cebe45b74cb413145b\"></div>\n",
       "<script type=\"text/javascript\">\n",
       "  var VEGA_DEBUG = (typeof VEGA_DEBUG == \"undefined\") ? {} : VEGA_DEBUG;\n",
       "  (function(spec, embedOpt){\n",
       "    let outputDiv = document.currentScript.previousElementSibling;\n",
       "    if (outputDiv.id !== \"altair-viz-dfe421480fbf49cebe45b74cb413145b\") {\n",
       "      outputDiv = document.getElementById(\"altair-viz-dfe421480fbf49cebe45b74cb413145b\");\n",
       "    }\n",
       "    const paths = {\n",
       "      \"vega\": \"https://cdn.jsdelivr.net/npm/vega@5?noext\",\n",
       "      \"vega-lib\": \"https://cdn.jsdelivr.net/npm/vega-lib?noext\",\n",
       "      \"vega-lite\": \"https://cdn.jsdelivr.net/npm/vega-lite@5.8.0?noext\",\n",
       "      \"vega-embed\": \"https://cdn.jsdelivr.net/npm/vega-embed@6?noext\",\n",
       "    };\n",
       "\n",
       "    function maybeLoadScript(lib, version) {\n",
       "      var key = `${lib.replace(\"-\", \"\")}_version`;\n",
       "      return (VEGA_DEBUG[key] == version) ?\n",
       "        Promise.resolve(paths[lib]) :\n",
       "        new Promise(function(resolve, reject) {\n",
       "          var s = document.createElement('script');\n",
       "          document.getElementsByTagName(\"head\")[0].appendChild(s);\n",
       "          s.async = true;\n",
       "          s.onload = () => {\n",
       "            VEGA_DEBUG[key] = version;\n",
       "            return resolve(paths[lib]);\n",
       "          };\n",
       "          s.onerror = () => reject(`Error loading script: ${paths[lib]}`);\n",
       "          s.src = paths[lib];\n",
       "        });\n",
       "    }\n",
       "\n",
       "    function showError(err) {\n",
       "      outputDiv.innerHTML = `<div class=\"error\" style=\"color:red;\">${err}</div>`;\n",
       "      throw err;\n",
       "    }\n",
       "\n",
       "    function displayChart(vegaEmbed) {\n",
       "      vegaEmbed(outputDiv, spec, embedOpt)\n",
       "        .catch(err => showError(`Javascript Error: ${err.message}<br>This usually means there's a typo in your chart specification. See the javascript console for the full traceback.`));\n",
       "    }\n",
       "\n",
       "    if(typeof define === \"function\" && define.amd) {\n",
       "      requirejs.config({paths});\n",
       "      require([\"vega-embed\"], displayChart, err => showError(`Error loading script: ${err.message}`));\n",
       "    } else {\n",
       "      maybeLoadScript(\"vega\", \"5\")\n",
       "        .then(() => maybeLoadScript(\"vega-lite\", \"5.8.0\"))\n",
       "        .then(() => maybeLoadScript(\"vega-embed\", \"6\"))\n",
       "        .catch(showError)\n",
       "        .then(() => displayChart(vegaEmbed));\n",
       "    }\n",
       "  })({\"config\": {\"view\": {\"continuousWidth\": 300, \"continuousHeight\": 300}}, \"data\": {\"name\": \"data-86e3cfe38e4e0a9d4c9d7d92f04e4119\"}, \"mark\": {\"type\": \"bar\"}, \"encoding\": {\"tooltip\": [{\"field\": \"Feature\", \"type\": \"nominal\"}, {\"field\": \"Importance\", \"type\": \"quantitative\"}], \"x\": {\"field\": \"Feature\", \"sort\": \"-y\", \"title\": \"Features\", \"type\": \"nominal\"}, \"y\": {\"field\": \"Importance\", \"scale\": {\"domain\": [0, 1]}, \"title\": \"Importance\", \"type\": \"quantitative\"}}, \"height\": 400, \"title\": \"Feature Importance Histogram\", \"width\": 600, \"$schema\": \"https://vega.github.io/schema/vega-lite/v5.8.0.json\", \"datasets\": {\"data-86e3cfe38e4e0a9d4c9d7d92f04e4119\": [{\"Feature\": \"Num Supports\", \"Importance\": 0.18164576486018846}, {\"Feature\": \"long_term_value_score\", \"Importance\": 0.16836530873234057}, {\"Feature\": \"innovation_score\", \"Importance\": 0.16588495004439058}, {\"Feature\": \"compliance_or_regulatory_benefit\", \"Importance\": 0.07397444674085883}, {\"Feature\": \"strategic_timeline_alignment\", \"Importance\": 0.07263510667983097}, {\"Feature\": \"executive_priority_flag\", \"Importance\": 0.07141611818064099}, {\"Feature\": \"mission_critical_flag\", \"Importance\": 0.05541023332802976}, {\"Feature\": \"supports_key_initiative_Automation\", \"Importance\": 0.04827713359158685}, {\"Feature\": \"aligns_with_okrs\", \"Importance\": 0.04571069951388836}, {\"Feature\": \"supports_key_initiative_Sustainability\", \"Importance\": 0.041694367029422676}, {\"Feature\": \"supports_key_initiative_Unknown\", \"Importance\": 0.03795171258185361}, {\"Feature\": \"supports_key_initiative_AI\", \"Importance\": 0.037034158716968274}]}}, {\"mode\": \"vega-lite\"});\n",
       "</script>"
      ],
      "text/plain": [
       "alt.Chart(...)"
      ]
     },
     "execution_count": 140,
     "metadata": {},
     "output_type": "execute_result"
    }
   ],
   "source": [
    "import altair as alt\n",
    "\n",
    "# Create a histogram for feature importance\n",
    "chart = alt.Chart(importances_df).mark_bar().encode(\n",
    "    x=alt.X('Feature', sort='-y', title='Features'),\n",
    "    y=alt.Y('Importance', scale=alt.Scale(domain=[0, 1]), title='Importance'),\n",
    "    tooltip=['Feature', 'Importance']\n",
    ").properties(\n",
    "    title='Feature Importance Histogram',\n",
    "    width=600,\n",
    "    height=400\n",
    ")\n",
    "chart"
   ]
  },
  {
   "cell_type": "code",
   "execution_count": 141,
   "metadata": {},
   "outputs": [],
   "source": [
    "df_train['sa_target'] = df_train[feature_weights.index].mul(feature_weights, axis=1).sum(axis=1)"
   ]
  },
  {
   "cell_type": "code",
   "execution_count": 142,
   "metadata": {},
   "outputs": [
    {
     "data": {
      "text/html": [
       "<div>\n",
       "<style scoped>\n",
       "    .dataframe tbody tr th:only-of-type {\n",
       "        vertical-align: middle;\n",
       "    }\n",
       "\n",
       "    .dataframe tbody tr th {\n",
       "        vertical-align: top;\n",
       "    }\n",
       "\n",
       "    .dataframe thead th {\n",
       "        text-align: right;\n",
       "    }\n",
       "</style>\n",
       "<table border=\"1\" class=\"dataframe\">\n",
       "  <thead>\n",
       "    <tr style=\"text-align: right;\">\n",
       "      <th></th>\n",
       "      <th>Title</th>\n",
       "      <th>Description</th>\n",
       "      <th>aligns_with_okrs</th>\n",
       "      <th>compliance_or_regulatory_benefit</th>\n",
       "      <th>innovation_score</th>\n",
       "      <th>executive_priority_flag</th>\n",
       "      <th>strategic_timeline_alignment</th>\n",
       "      <th>mission_critical_flag</th>\n",
       "      <th>long_term_value_score</th>\n",
       "      <th>Num Supports</th>\n",
       "      <th>supports_key_initiative_AI</th>\n",
       "      <th>supports_key_initiative_Automation</th>\n",
       "      <th>supports_key_initiative_Sustainability</th>\n",
       "      <th>supports_key_initiative_Unknown</th>\n",
       "      <th>target</th>\n",
       "      <th>sa_target</th>\n",
       "    </tr>\n",
       "  </thead>\n",
       "  <tbody>\n",
       "    <tr>\n",
       "      <th>185</th>\n",
       "      <td>Predictive System Optimizer</td>\n",
       "      <td>Predictive System Optimizer is focused on opti...</td>\n",
       "      <td>0.0</td>\n",
       "      <td>1.0</td>\n",
       "      <td>1.0</td>\n",
       "      <td>1.0</td>\n",
       "      <td>1.0</td>\n",
       "      <td>1.0</td>\n",
       "      <td>0.75</td>\n",
       "      <td>1.0</td>\n",
       "      <td>0.0</td>\n",
       "      <td>1.0</td>\n",
       "      <td>0.0</td>\n",
       "      <td>0.0</td>\n",
       "      <td>0.732598</td>\n",
       "      <td>0.795518</td>\n",
       "    </tr>\n",
       "    <tr>\n",
       "      <th>657</th>\n",
       "      <td>Smart Store Dashboard</td>\n",
       "      <td>Smart Store Dashboard is focused on enhancing ...</td>\n",
       "      <td>0.0</td>\n",
       "      <td>1.0</td>\n",
       "      <td>1.0</td>\n",
       "      <td>1.0</td>\n",
       "      <td>1.0</td>\n",
       "      <td>1.0</td>\n",
       "      <td>0.75</td>\n",
       "      <td>1.0</td>\n",
       "      <td>1.0</td>\n",
       "      <td>0.0</td>\n",
       "      <td>0.0</td>\n",
       "      <td>0.0</td>\n",
       "      <td>0.554567</td>\n",
       "      <td>0.784275</td>\n",
       "    </tr>\n",
       "  </tbody>\n",
       "</table>\n",
       "</div>"
      ],
      "text/plain": [
       "                           Title  \\\n",
       "185  Predictive System Optimizer   \n",
       "657        Smart Store Dashboard   \n",
       "\n",
       "                                           Description  aligns_with_okrs  \\\n",
       "185  Predictive System Optimizer is focused on opti...               0.0   \n",
       "657  Smart Store Dashboard is focused on enhancing ...               0.0   \n",
       "\n",
       "     compliance_or_regulatory_benefit  innovation_score  \\\n",
       "185                               1.0               1.0   \n",
       "657                               1.0               1.0   \n",
       "\n",
       "     executive_priority_flag  strategic_timeline_alignment  \\\n",
       "185                      1.0                           1.0   \n",
       "657                      1.0                           1.0   \n",
       "\n",
       "     mission_critical_flag  long_term_value_score  Num Supports  \\\n",
       "185                    1.0                   0.75           1.0   \n",
       "657                    1.0                   0.75           1.0   \n",
       "\n",
       "     supports_key_initiative_AI  supports_key_initiative_Automation  \\\n",
       "185                         0.0                                 1.0   \n",
       "657                         1.0                                 0.0   \n",
       "\n",
       "     supports_key_initiative_Sustainability  supports_key_initiative_Unknown  \\\n",
       "185                                     0.0                              0.0   \n",
       "657                                     0.0                              0.0   \n",
       "\n",
       "       target  sa_target  \n",
       "185  0.732598   0.795518  \n",
       "657  0.554567   0.784275  "
      ]
     },
     "execution_count": 142,
     "metadata": {},
     "output_type": "execute_result"
    }
   ],
   "source": [
    "df_train_sorted = df_train.sort_values(by='sa_target', ascending=False)\n",
    "df_train_sorted.head(2)"
   ]
  },
  {
   "cell_type": "code",
   "execution_count": 143,
   "metadata": {},
   "outputs": [
    {
     "name": "stdout",
     "output_type": "stream",
     "text": [
      "MSE: 0.09489836645790219\n"
     ]
    }
   ],
   "source": [
    "from sklearn.ensemble import RandomForestRegressor\n",
    "from sklearn.metrics import mean_squared_error\n",
    "\n",
    "\n",
    "\n",
    "# Test Set\n",
    "X_val = df_test[numerical_columns]\n",
    "y_test = df_test['target']\n",
    "y_pred = rf_regressor.predict(X_val)\n",
    "\n",
    "\n",
    "mse = mean_squared_error(y_test, y_pred)\n",
    "print(f\"MSE: {mse}\")"
   ]
  },
  {
   "cell_type": "code",
   "execution_count": 144,
   "metadata": {},
   "outputs": [],
   "source": [
    "# Assigning Weights to the Features for whole Dataset\n",
    "df_all=df_SA_normalized.copy()\n",
    "df_all['SA_Score'] = df_all[feature_weights.index].mul(feature_weights, axis=1).sum(axis=1)"
   ]
  },
  {
   "cell_type": "code",
   "execution_count": 145,
   "metadata": {},
   "outputs": [],
   "source": [
    "df_all.to_csv('df_all_SA.csv', index=False)"
   ]
  }
 ],
 "metadata": {
  "kernelspec": {
   "display_name": "base",
   "language": "python",
   "name": "python3"
  },
  "language_info": {
   "codemirror_mode": {
    "name": "ipython",
    "version": 3
   },
   "file_extension": ".py",
   "mimetype": "text/x-python",
   "name": "python",
   "nbconvert_exporter": "python",
   "pygments_lexer": "ipython3",
   "version": "3.12.4"
  }
 },
 "nbformat": 4,
 "nbformat_minor": 2
}
