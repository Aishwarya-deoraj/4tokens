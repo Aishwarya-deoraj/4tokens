{
 "cells": [
  {
   "cell_type": "markdown",
   "metadata": {},
   "source": [
    "Importing Data Scores from all the Base Metrics "
   ]
  },
  {
   "cell_type": "code",
   "execution_count": 26,
   "metadata": {},
   "outputs": [],
   "source": [
    "import pandas as pd\n",
    "cost = pd.read_csv('/Users/hoosiersaikap251/dataviz/docs/df_all_Cost.csv')\n",
    "ROI = pd.read_csv('/Users/hoosiersaikap251/dataviz/docs/df_all_ROI.csv')\n",
    "SA = pd.read_csv('/Users/hoosiersaikap251/dataviz/docs/df_all_SA.csv')\n"
   ]
  },
  {
   "cell_type": "markdown",
   "metadata": {},
   "source": [
    "Taking Main DataFrame and Integrating the Scores in Main Dataframe"
   ]
  },
  {
   "cell_type": "code",
   "execution_count": 27,
   "metadata": {},
   "outputs": [],
   "source": [
    "data_main = pd.read_csv('/Users/hoosiersaikap251/dataviz/docs/Final_Data.csv')"
   ]
  },
  {
   "cell_type": "code",
   "execution_count": 30,
   "metadata": {},
   "outputs": [],
   "source": [
    "data_main = data_main.merge(cost[['Title', 'Cost_Score']], on='Title', how='left')\n",
    "\n",
    "# Merge ROI scores\n",
    "data_main = data_main.merge(ROI[['Title', 'ROI_Score']], on='Title', how='left')\n",
    "\n",
    "# Merge SA scores\n",
    "data_main = data_main.merge(SA[['Title', 'SA_Score']], on='Title', how='left')"
   ]
  },
  {
   "cell_type": "code",
   "execution_count": 33,
   "metadata": {},
   "outputs": [],
   "source": [
    "data_main.to_csv('df_final_scores.csv', index=False)"
   ]
  }
 ],
 "metadata": {
  "kernelspec": {
   "display_name": "base",
   "language": "python",
   "name": "python3"
  },
  "language_info": {
   "codemirror_mode": {
    "name": "ipython",
    "version": 3
   },
   "file_extension": ".py",
   "mimetype": "text/x-python",
   "name": "python",
   "nbconvert_exporter": "python",
   "pygments_lexer": "ipython3",
   "version": "3.12.4"
  }
 },
 "nbformat": 4,
 "nbformat_minor": 2
}
